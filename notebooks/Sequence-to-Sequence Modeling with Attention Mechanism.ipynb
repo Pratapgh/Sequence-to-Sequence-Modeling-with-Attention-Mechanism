{
 "cells": [
  {
   "cell_type": "code",
   "execution_count": null,
   "id": "e0459aca",
   "metadata": {},
   "outputs": [],
   "source": [
    "# Install necessary libraries\n",
    "!pip install torch torchvision torchaudio\n",
    "!pip install numpy matplotlib scikit-learn\n"
   ]
  },
  {
   "cell_type": "code",
   "execution_count": 42,
   "id": "3b815cf9",
   "metadata": {},
   "outputs": [],
   "source": [
    "import torch\n",
    "import torch.nn as nn\n",
    "import torch.optim as optim\n",
    "import numpy as np\n",
    "import pandas as pd\n",
    "import matplotlib.pyplot as plt\n",
    "from torch.utils.data import DataLoader, TensorDataset"
   ]
  },
  {
   "cell_type": "code",
   "execution_count": null,
   "id": "3ed1efa9",
   "metadata": {},
   "outputs": [],
   "source": []
  },
  {
   "cell_type": "code",
   "execution_count": 37,
   "id": "eb3eb62d",
   "metadata": {},
   "outputs": [],
   "source": [
    "\n",
    "# Encoder class\n",
    "class Encoder(nn.Module):\n",
    "    def __init__(self, input_size, hidden_size, num_layers):\n",
    "        super(Encoder, self).__init__()\n",
    "        self.hidden_size = hidden_size\n",
    "        self.num_layers = num_layers\n",
    "        self.embedding = nn.Embedding(input_size, hidden_size)\n",
    "        self.lstm = nn.LSTM(hidden_size, hidden_size, num_layers, batch_first=True)\n",
    "\n",
    "    def forward(self, x):\n",
    "        embedded = self.embedding(x)  # [batch_size, seq_len, hidden_size]\n",
    "        outputs, (hidden, cell) = self.lstm(embedded)  # [batch_size, seq_len, hidden_size], [num_layers, batch_size, hidden_size]\n",
    "        return outputs, hidden, cell"
   ]
  },
  {
   "cell_type": "code",
   "execution_count": 38,
   "id": "b6eaea16",
   "metadata": {},
   "outputs": [],
   "source": [
    "\n",
    "# Attention class\n",
    "class Attention(nn.Module):\n",
    "    def __init__(self, hidden_size):\n",
    "        super(Attention, self).__init__()\n",
    "        self.hidden_size = hidden_size\n",
    "        self.attn = nn.Linear(hidden_size, hidden_size)\n",
    "\n",
    "    def forward(self, hidden, encoder_outputs):\n",
    "        hidden = hidden.unsqueeze(1)  # [batch_size, 1, hidden_size]\n",
    "        attn_weights = torch.bmm(encoder_outputs, hidden.transpose(1, 2))  # [batch_size, seq_len, 1]\n",
    "        attn_weights = torch.softmax(attn_weights.squeeze(2), dim=-1)  # [batch_size, seq_len]\n",
    "        context_vector = torch.bmm(attn_weights.unsqueeze(1), encoder_outputs).squeeze(1)  # [batch_size, hidden_size]\n",
    "        return context_vector"
   ]
  },
  {
   "cell_type": "code",
   "execution_count": 39,
   "id": "20f1265d",
   "metadata": {},
   "outputs": [],
   "source": [
    "\n",
    "# Decoder class\n",
    "class Decoder(nn.Module):\n",
    "    def __init__(self, hidden_size, output_size, num_layers):\n",
    "        super(Decoder, self).__init__()\n",
    "        self.hidden_size = hidden_size\n",
    "        self.num_layers = num_layers\n",
    "        self.embedding = nn.Embedding(output_size, hidden_size)\n",
    "        self.attention = Attention(hidden_size)\n",
    "        self.lstm = nn.LSTM(hidden_size * 2, hidden_size, num_layers, batch_first=True)\n",
    "        self.fc_out = nn.Linear(hidden_size, output_size)\n",
    "\n",
    "    def forward(self, x, hidden, cell, encoder_outputs):\n",
    "        embedded = self.embedding(x).unsqueeze(1)  # [batch_size, 1, hidden_size]\n",
    "        context_vector = self.attention(hidden[0], encoder_outputs)  # [batch_size, hidden_size]\n",
    "        lstm_input = torch.cat((embedded.squeeze(1), context_vector), dim=-1)  # [batch_size, hidden_size * 2]\n",
    "        output, (hidden, cell) = self.lstm(lstm_input.unsqueeze(1), (hidden, cell))  # [batch_size, hidden_size]\n",
    "        output = self.fc_out(output.squeeze(1))  # [batch_size, output_size]\n",
    "        return output, hidden, cell"
   ]
  },
  {
   "cell_type": "code",
   "execution_count": 40,
   "id": "a7f0129e",
   "metadata": {},
   "outputs": [],
   "source": [
    "\n",
    "# Seq2Seq class\n",
    "class Seq2Seq(nn.Module):\n",
    "    def __init__(self, input_size, output_size, hidden_size, num_layers):\n",
    "        super(Seq2Seq, self).__init__()\n",
    "        self.encoder = Encoder(input_size, hidden_size, num_layers)\n",
    "        self.decoder = Decoder(hidden_size, output_size, num_layers)\n",
    "\n",
    "    def forward(self, source, target):\n",
    "        encoder_outputs, hidden, cell = self.encoder(source)\n",
    "        batch_size = source.size(0)\n",
    "        target_len = target.size(1)\n",
    "        output_size = self.decoder.fc_out.out_features\n",
    "        outputs = torch.zeros(batch_size, target_len, output_size).to(source.device)\n",
    "\n",
    "        input_token = target[:, 0]  # Initialize with the start token\n",
    "        for t in range(1, target_len):  # Start from the second token\n",
    "            output, hidden, cell = self.decoder(input_token, hidden, cell, encoder_outputs)\n",
    "            outputs[:, t] = output\n",
    "            input_token = output.argmax(dim=-1)  # Get the next token\n",
    "\n",
    "        return outputs"
   ]
  },
  {
   "cell_type": "code",
   "execution_count": 43,
   "id": "f67a90c5",
   "metadata": {},
   "outputs": [],
   "source": [
    "\n",
    "# Generate synthetic data\n",
    "def generate_data(num_samples=1000, seq_len=10, input_size=10):\n",
    "    source_seq = np.random.randint(1, input_size, size=(num_samples, seq_len))\n",
    "    target_seq = np.flip(source_seq, axis=1)  # Target is the reverse of source\n",
    "    # Fix the stride issue by creating a copy of the array\n",
    "    return torch.tensor(source_seq.copy(), dtype=torch.long), torch.tensor(target_seq.copy(), dtype=torch.long)\n",
    "\n",
    "# Hyperparameters\n",
    "input_size = 10  # Vocabulary size\n",
    "output_size = 10  # Vocabulary size\n",
    "hidden_size = 256\n",
    "num_layers = 2\n",
    "num_epochs = 10\n",
    "batch_size = 64\n",
    "learning_rate = 0.001\n",
    "\n",
    "# Generate data\n",
    "source_data, target_data = generate_data()\n",
    "\n",
    "# Convert source and target data to pandas DataFrame for saving as CSV\n",
    "data_dict = {\n",
    "    'source': [','.join(map(str, seq)) for seq in source_data.numpy()],\n",
    "    'target': [','.join(map(str, seq)) for seq in target_data.numpy()]\n",
    "}\n",
    "\n",
    "# Create a DataFrame\n",
    "df = pd.DataFrame(data_dict)\n",
    "\n",
    "# Save the DataFrame to a CSV file\n",
    "df.to_csv('dataset.csv', index=False)\n"
   ]
  },
  {
   "cell_type": "code",
   "execution_count": 44,
   "id": "38e33496",
   "metadata": {},
   "outputs": [],
   "source": [
    "\n",
    "# Split the dataset into training and testing\n",
    "train_size = int(0.8 * len(source_data))\n",
    "train_source = source_data[:train_size]\n",
    "train_target = target_data[:train_size]\n",
    "test_source = source_data[train_size:]\n",
    "test_target = target_data[train_size:]\n",
    "\n",
    "# Create DataLoader for batch processing\n",
    "train_dataset = TensorDataset(train_source, train_target)\n",
    "train_loader = DataLoader(train_dataset, batch_size=batch_size, shuffle=True)\n",
    "\n",
    "# Initialize the model\n",
    "device = torch.device('cuda' if torch.cuda.is_available() else 'cpu')\n",
    "model = Seq2Seq(input_size, output_size, hidden_size, num_layers).to(device)\n"
   ]
  },
  {
   "cell_type": "code",
   "execution_count": 45,
   "id": "cacc654e",
   "metadata": {},
   "outputs": [],
   "source": [
    "\n",
    "# Set up loss function and optimizer\n",
    "criterion = nn.CrossEntropyLoss()\n",
    "optimizer = optim.Adam(model.parameters(), lr=learning_rate)\n",
    "\n",
    "# Training loop\n",
    "def train(model, train_loader, num_epochs):\n",
    "    model.train()\n",
    "    total_loss = []\n",
    "    for epoch in range(num_epochs):\n",
    "        epoch_loss = 0\n",
    "        for source_batch, target_batch in train_loader:\n",
    "            source_batch, target_batch = source_batch.to(device), target_batch.to(device)\n",
    "\n",
    "            optimizer.zero_grad()\n",
    "            output = model(source_batch, target_batch)\n",
    "\n",
    "            # Reshape output and target for loss calculation\n",
    "            output = output[:, 1:].reshape(-1, output_size)  # Remove start token\n",
    "            target_batch = target_batch[:, 1:].reshape(-1)  # Remove start token\n",
    "\n",
    "            loss = criterion(output, target_batch)\n",
    "            loss.backward()\n",
    "            optimizer.step()\n",
    "\n",
    "            epoch_loss += loss.item()\n",
    "\n",
    "        total_loss.append(epoch_loss / len(train_loader))\n",
    "        print(f\"Epoch {epoch+1}/{num_epochs}, Loss: {epoch_loss / len(train_loader)}\")\n",
    "\n",
    "    return total_loss\n"
   ]
  },
  {
   "cell_type": "code",
   "execution_count": 46,
   "id": "700beb56",
   "metadata": {},
   "outputs": [
    {
     "name": "stdout",
     "output_type": "stream",
     "text": [
      "Epoch 1/10, Loss: 2.1623323422211866\n",
      "Epoch 2/10, Loss: 1.8120158268855169\n",
      "Epoch 3/10, Loss: 1.5737004646888146\n",
      "Epoch 4/10, Loss: 1.363832712173462\n",
      "Epoch 5/10, Loss: 1.144301176071167\n",
      "Epoch 6/10, Loss: 0.9016830646074735\n",
      "Epoch 7/10, Loss: 0.6683658269735483\n",
      "Epoch 8/10, Loss: 0.524586198421625\n",
      "Epoch 9/10, Loss: 0.4140589145513681\n",
      "Epoch 10/10, Loss: 0.31706363077347094\n"
     ]
    },
    {
     "data": {
      "image/png": "[encoded data removed]",
      "text/plain": [
       "<Figure size 640x480 with 1 Axes>"
      ]
     },
     "metadata": {},
     "output_type": "display_data"
    }
   ],
   "source": [
    "\n",
    "# Train the model\n",
    "train_loss = train(model, train_loader, num_epochs)\n",
    "\n",
    "# Plot the loss curve\n",
    "plt.plot(train_loss)\n",
    "plt.title('Training Loss Curve')\n",
    "plt.xlabel('Epoch')\n",
    "plt.ylabel('Loss')\n",
    "plt.show()"
   ]
  },
  {
   "cell_type": "code",
   "execution_count": null,
   "id": "0f032f4c",
   "metadata": {},
   "outputs": [],
   "source": []
  },
  {
   "cell_type": "code",
   "execution_count": null,
   "id": "e66f5666",
   "metadata": {},
   "outputs": [],
   "source": []
  },
  {
   "cell_type": "code",
   "execution_count": 47,
   "id": "bfece5e9",
   "metadata": {},
   "outputs": [],
   "source": [
    "def calculate_accuracy(model, source_data, target_data, batch_size):\n",
    "    model.eval()  # Set the model to evaluation mode\n",
    "    correct = 0\n",
    "    total = 0\n",
    "    with torch.no_grad():  # No need to compute gradients during evaluation\n",
    "        for i in range(0, len(source_data), batch_size):\n",
    "            source_batch = source_data[i:i + batch_size].to(device)\n",
    "            target_batch = target_data[i:i + batch_size].to(device)\n",
    "\n",
    "            output = model(source_batch, target_batch)\n",
    "\n",
    "            # Get the predicted tokens (argmax of the output)\n",
    "            output_tokens = output.argmax(dim=-1)\n",
    "\n",
    "            # Compare predictions with actual target (excluding the first token)\n",
    "            correct += (output_tokens[:, 1:] == target_batch[:, 1:]).sum().item()  # Compare tokens from the second onward\n",
    "            total += target_batch.size(0) * (target_batch.size(1) - 1)  # Exclude start token from total count\n",
    "\n",
    "    accuracy = correct / total * 100  # Percentage accuracy\n",
    "    return accuracy"
   ]
  },
  {
   "cell_type": "code",
   "execution_count": 48,
   "id": "b78fe540",
   "metadata": {},
   "outputs": [
    {
     "name": "stdout",
     "output_type": "stream",
     "text": [
      "Accuracy on test data: 94.22%\n"
     ]
    }
   ],
   "source": [
    "# Calculate accuracy after training\n",
    "accuracy = calculate_accuracy(model, test_source, test_target, batch_size)\n",
    "print(f\"Accuracy on test data: {accuracy:.2f}%\")\n"
   ]
  },
  {
   "cell_type": "code",
   "execution_count": null,
   "id": "5763aec8",
   "metadata": {},
   "outputs": [],
   "source": []
  },
  {
   "cell_type": "code",
   "execution_count": null,
   "id": "ef54ecf0",
   "metadata": {},
   "outputs": [],
   "source": []
  },
  {
   "cell_type": "code",
   "execution_count": null,
   "id": "0c7fc4b8",
   "metadata": {},
   "outputs": [],
   "source": []
  }
 ],
 "metadata": {
  "kernelspec": {
   "display_name": "Python 3 (ipykernel)",
   "language": "python",
   "name": "python3"
  },
  "language_info": {
   "codemirror_mode": {
    "name": "ipython",
    "version": 3
   },
   "file_extension": ".py",
   "mimetype": "text/x-python",
   "name": "python",
   "nbconvert_exporter": "python",
   "pygments_lexer": "ipython3",
   "version": "3.11.3"
  }
 },
 "nbformat": 4,
 "nbformat_minor": 5
}
